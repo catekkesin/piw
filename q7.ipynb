{
 "cells": [
  {
   "cell_type": "code",
   "execution_count": 1,
   "metadata": {},
   "outputs": [],
   "source": [
    "import pandas as pd\n",
    "\n",
    "# reading csv\n",
    "DATA_PATH  = \"country_vaccination_stats.csv\"\n",
    "df = pd.read_csv(DATA_PATH)"
   ]
  },
  {
   "cell_type": "code",
   "execution_count": 2,
   "metadata": {},
   "outputs": [
    {
     "name": "stderr",
     "output_type": "stream",
     "text": [
      "/var/folders/bx/gz140ns114vf8nr1888k9n180000gn/T/ipykernel_29050/2419971052.py:11: FutureWarning: A value is trying to be set on a copy of a DataFrame or Series through chained assignment using an inplace method.\n",
      "The behavior will change in pandas 3.0. This inplace method will never work because the intermediate object on which we are setting values always behaves as a copy.\n",
      "\n",
      "For example, when doing 'df[col].method(value, inplace=True)', try using 'df.method({col: value}, inplace=True)' or df[col] = df[col].method(value) instead, to perform the operation inplace on the original object.\n",
      "\n",
      "\n",
      "  df_filled[\"daily_vaccinations\"].fillna(0, inplace=True)\n"
     ]
    }
   ],
   "source": [
    "# Imputation\n",
    "\n",
    "# Group by country and find the minimum daily vaccination number\n",
    "min_vaccinations = df.groupby(\"country\")[\"daily_vaccinations\"].min().reset_index()\n",
    "\n",
    "# Replace missing data with the minimum daily vaccination number\n",
    "df_filled = df.merge(min_vaccinations, on=\"country\", suffixes=(\"\", \"_min\"))\n",
    "df_filled[\"daily_vaccinations\"] = df_filled[\"daily_vaccinations\"].fillna(df_filled[\"daily_vaccinations_min\"])\n",
    "\n",
    "# Fill missing data for countries without any valid vaccination number with 0\n",
    "df_filled[\"daily_vaccinations\"].fillna(0, inplace=True)\n",
    "\n",
    "# Convert daily_vaccinations column to integers after handling NaN\n",
    "df_filled[\"daily_vaccinations\"] = df_filled[\"daily_vaccinations\"].astype(int)\n",
    "\n",
    "# Drop the temporary column\n",
    "df_filled.drop(columns=[\"daily_vaccinations_min\"], inplace=True)\n"
   ]
  },
  {
   "cell_type": "code",
   "execution_count": 3,
   "metadata": {},
   "outputs": [
    {
     "data": {
      "text/plain": [
       "1485255"
      ]
     },
     "execution_count": 3,
     "metadata": {},
     "output_type": "execute_result"
    }
   ],
   "source": [
    "DATE = '2021-01-06'\n",
    "\n",
    "# Convert date column to datetime type\n",
    "df_filled['date'] = pd.to_datetime(df_filled['date'])\n",
    "\n",
    "# Filter the dataset for records with the date 1/6/2021\n",
    "vaccinations_1_6_2021 = df_filled[df_filled['date'] == DATE]\n",
    "\n",
    "# Calculate the total number of vaccinations on 1/6/2021\n",
    "total_vaccinations_1_6_2021 = vaccinations_1_6_2021['daily_vaccinations'].sum()\n",
    "\n",
    "total_vaccinations_1_6_2021"
   ]
  }
 ],
 "metadata": {
  "kernelspec": {
   "display_name": "Python 3",
   "language": "python",
   "name": "python3"
  },
  "language_info": {
   "codemirror_mode": {
    "name": "ipython",
    "version": 3
   },
   "file_extension": ".py",
   "mimetype": "text/x-python",
   "name": "python",
   "nbconvert_exporter": "python",
   "pygments_lexer": "ipython3",
   "version": "3.11.8"
  }
 },
 "nbformat": 4,
 "nbformat_minor": 2
}
